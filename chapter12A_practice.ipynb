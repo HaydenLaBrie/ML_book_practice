{
 "cells": [
  {
   "cell_type": "code",
   "execution_count": 1,
   "metadata": {
    "ExecuteTime": {
     "start_time": "2023-04-06T19:16:25.912448Z",
     "end_time": "2023-04-06T19:16:26.937461Z"
    }
   },
   "outputs": [],
   "source": [
    "import torch\n",
    "import numpy as np"
   ]
  },
  {
   "cell_type": "code",
   "execution_count": 2,
   "metadata": {
    "ExecuteTime": {
     "start_time": "2023-04-06T19:16:26.935580Z",
     "end_time": "2023-04-06T19:16:26.938415Z"
    }
   },
   "outputs": [],
   "source": [
    "np.set_printoptions(precision=3) #show up to and including the 3rd decimal place for numpy objects"
   ]
  },
  {
   "cell_type": "code",
   "execution_count": 3,
   "metadata": {
    "ExecuteTime": {
     "start_time": "2023-04-06T19:16:26.939759Z",
     "end_time": "2023-04-06T19:16:26.948326Z"
    }
   },
   "outputs": [
    {
     "name": "stdout",
     "output_type": "stream",
     "text": [
      "tensor([1, 2, 3])\n",
      "tensor([4, 5, 6], dtype=torch.int32)\n"
     ]
    }
   ],
   "source": [
    "a = [1, 2, 3] #list\n",
    "b = np.array([4, 5, 6], dtype=np.int32) #numpy array\n",
    "\n",
    "t_a = torch.tensor(a) #creating a tensor from the list\n",
    "t_b = torch.from_numpy(b) #creating a tensor from the array\n",
    "\n",
    "print(t_a)\n",
    "print(t_b)"
   ]
  },
  {
   "cell_type": "code",
   "execution_count": 4,
   "metadata": {
    "ExecuteTime": {
     "start_time": "2023-04-06T19:16:26.949326Z",
     "end_time": "2023-04-06T19:16:26.954307Z"
    }
   },
   "outputs": [
    {
     "data": {
      "text/plain": "(False, True)"
     },
     "execution_count": 4,
     "metadata": {},
     "output_type": "execute_result"
    }
   ],
   "source": [
    "torch.is_tensor(a), torch.is_tensor(t_a) #showing if object is a tensor"
   ]
  },
  {
   "cell_type": "code",
   "execution_count": 5,
   "metadata": {
    "ExecuteTime": {
     "start_time": "2023-04-06T19:16:26.953647Z",
     "end_time": "2023-04-06T19:16:26.958882Z"
    }
   },
   "outputs": [
    {
     "data": {
      "text/plain": "torch.Size([2, 3])"
     },
     "execution_count": 5,
     "metadata": {},
     "output_type": "execute_result"
    }
   ],
   "source": [
    "t_ones = torch.ones(2, 3) #creating a 2d tensor of dimensions 2x3 with 1s for every position\n",
    "\n",
    "t_ones.shape #showing the shape with is 2x3, 2y and 3x"
   ]
  },
  {
   "cell_type": "code",
   "execution_count": 6,
   "metadata": {
    "ExecuteTime": {
     "start_time": "2023-04-06T19:16:26.958249Z",
     "end_time": "2023-04-06T19:16:27.012215Z"
    }
   },
   "outputs": [
    {
     "name": "stdout",
     "output_type": "stream",
     "text": [
      "tensor([[1., 1., 1.],\n",
      "        [1., 1., 1.]])\n"
     ]
    }
   ],
   "source": [
    "print(t_ones)"
   ]
  },
  {
   "cell_type": "code",
   "execution_count": 7,
   "metadata": {
    "ExecuteTime": {
     "start_time": "2023-04-06T19:16:26.971305Z",
     "end_time": "2023-04-06T19:16:27.012825Z"
    }
   },
   "outputs": [
    {
     "name": "stdout",
     "output_type": "stream",
     "text": [
      "tensor([[0.7707, 0.6064, 0.1144],\n",
      "        [0.0413, 0.8118, 0.1971]])\n"
     ]
    }
   ],
   "source": [
    "rand_tensor = torch.rand(2,3) #creating a 2x3 matrix of random generated values that exist in [0,1]\n",
    "\n",
    "print(rand_tensor)"
   ]
  },
  {
   "cell_type": "code",
   "execution_count": 8,
   "metadata": {
    "ExecuteTime": {
     "start_time": "2023-04-06T19:16:26.975595Z",
     "end_time": "2023-04-06T19:16:27.013163Z"
    }
   },
   "outputs": [
    {
     "name": "stdout",
     "output_type": "stream",
     "text": [
      "tensor([1, 2, 3])\n",
      "torch.int64\n"
     ]
    }
   ],
   "source": [
    "print(t_a)\n",
    "print(t_a.dtype)"
   ]
  },
  {
   "cell_type": "code",
   "execution_count": 9,
   "metadata": {
    "ExecuteTime": {
     "start_time": "2023-04-06T19:16:26.978785Z",
     "end_time": "2023-04-06T19:16:27.013440Z"
    }
   },
   "outputs": [
    {
     "name": "stdout",
     "output_type": "stream",
     "text": [
      "torch.int64\n"
     ]
    }
   ],
   "source": [
    "t_a_new = t_a.to(torch.int64) #change datatype to a different one\n",
    "\n",
    "print(t_a_new.dtype)"
   ]
  },
  {
   "cell_type": "code",
   "execution_count": 10,
   "metadata": {
    "ExecuteTime": {
     "start_time": "2023-04-06T19:16:26.981843Z",
     "end_time": "2023-04-06T19:16:27.013755Z"
    }
   },
   "outputs": [
    {
     "name": "stdout",
     "output_type": "stream",
     "text": [
      "tensor([[0.6450, 0.7643, 0.2431, 0.2857, 0.6120],\n",
      "        [0.0145, 0.3652, 0.3428, 0.3500, 0.0089],\n",
      "        [0.3140, 0.4772, 0.8838, 0.4231, 0.4651]])\n",
      "torch.Size([3, 5])  -->  torch.Size([5, 3])\n",
      "tensor([[0.6450, 0.0145, 0.3140],\n",
      "        [0.7643, 0.3652, 0.4772],\n",
      "        [0.2431, 0.3428, 0.8838],\n",
      "        [0.2857, 0.3500, 0.4231],\n",
      "        [0.6120, 0.0089, 0.4651]])\n"
     ]
    }
   ],
   "source": [
    "t = torch.rand(3, 5)\n",
    "print(t)\n",
    "t_tr = torch.transpose(t, 0, 1) #making t_tr the transpose of t\n",
    "print(t.shape, ' --> ', t_tr.shape)\n",
    "print(t_tr)"
   ]
  },
  {
   "cell_type": "code",
   "execution_count": 11,
   "metadata": {
    "ExecuteTime": {
     "start_time": "2023-04-06T19:16:26.986285Z",
     "end_time": "2023-04-06T19:16:27.014137Z"
    }
   },
   "outputs": [
    {
     "name": "stdout",
     "output_type": "stream",
     "text": [
      "tensor([0., 0., 0., 0., 0., 0., 0., 0., 0., 0., 0., 0., 0., 0., 0., 0., 0., 0., 0., 0., 0., 0., 0., 0.,\n",
      "        0., 0., 0., 0., 0., 0.])\n",
      "tensor([[0., 0., 0., 0., 0., 0.],\n",
      "        [0., 0., 0., 0., 0., 0.],\n",
      "        [0., 0., 0., 0., 0., 0.],\n",
      "        [0., 0., 0., 0., 0., 0.],\n",
      "        [0., 0., 0., 0., 0., 0.]])\n",
      "torch.Size([5, 6])\n"
     ]
    }
   ],
   "source": [
    "t = torch.zeros(30) #making a 1d tensor of 30 0s\n",
    "print(t)\n",
    "t_reshape = t.reshape(5, 6) #reshape so that the 0s are 5y by 6x of a 2d tensor\n",
    "print(t_reshape)\n",
    "print(t_reshape.shape)"
   ]
  },
  {
   "cell_type": "code",
   "execution_count": 12,
   "metadata": {
    "ExecuteTime": {
     "start_time": "2023-04-06T19:16:26.990366Z",
     "end_time": "2023-04-06T19:16:27.014305Z"
    }
   },
   "outputs": [
    {
     "name": "stdout",
     "output_type": "stream",
     "text": [
      "torch.Size([1, 2, 1, 4, 1])  -->  torch.Size([1, 2, 4, 1])\n"
     ]
    }
   ],
   "source": [
    "t = torch.zeros(1, 2, 1, 4, 1)\n",
    "t_sqz = torch.squeeze(t, 2)\n",
    "\n",
    "print(t.shape, ' --> ', t_sqz.shape)"
   ]
  },
  {
   "cell_type": "code",
   "execution_count": 13,
   "metadata": {
    "ExecuteTime": {
     "start_time": "2023-04-06T19:16:26.993721Z",
     "end_time": "2023-04-06T19:16:27.014457Z"
    }
   },
   "outputs": [
    {
     "name": "stdout",
     "output_type": "stream",
     "text": [
      "tensor([[0.],\n",
      "        [0.]])\n",
      "tensor([0., 0.])\n"
     ]
    }
   ],
   "source": [
    "t = torch.zeros(2,1)\n",
    "print(t)\n",
    "t_sqz = torch.squeeze(t) #Removing the unnecessary dimensions (dimensions that have size 1, which are not needed)\n",
    "print(t_sqz)"
   ]
  },
  {
   "cell_type": "code",
   "execution_count": 14,
   "metadata": {
    "ExecuteTime": {
     "start_time": "2023-04-06T19:16:26.999624Z",
     "end_time": "2023-04-06T19:16:27.015337Z"
    }
   },
   "outputs": [
    {
     "name": "stdout",
     "output_type": "stream",
     "text": [
      "tensor([[ 0.5153, -0.4414],\n",
      "        [-0.1939,  0.4694],\n",
      "        [-0.9414,  0.5997],\n",
      "        [-0.2057,  0.5087],\n",
      "        [ 0.1390, -0.1224]])\n",
      "tensor([[ 0.8590,  0.7056],\n",
      "        [-0.3406, -1.2720],\n",
      "        [-1.1948,  0.0250],\n",
      "        [-0.7627,  1.3969],\n",
      "        [-0.3245,  0.2879]])\n"
     ]
    }
   ],
   "source": [
    "torch.manual_seed(1)\n",
    "\n",
    "t1 = 2 * torch.rand(5, 2) - 1 #uniform distribution from [-1, 1)\n",
    "print(t1)\n",
    "t2 = torch.normal(mean=0, std=1, size=(5, 2)) #normal distribution with std of 1\n",
    "print(t2)"
   ]
  },
  {
   "cell_type": "code",
   "execution_count": 15,
   "metadata": {
    "ExecuteTime": {
     "start_time": "2023-04-06T19:16:27.004919Z",
     "end_time": "2023-04-06T19:16:27.015793Z"
    }
   },
   "outputs": [
    {
     "name": "stdout",
     "output_type": "stream",
     "text": [
      "tensor([[ 0.4426, -0.3114],\n",
      "        [ 0.0660, -0.5970],\n",
      "        [ 1.1249,  0.0150],\n",
      "        [ 0.1569,  0.7107],\n",
      "        [-0.0451, -0.0352]])\n"
     ]
    }
   ],
   "source": [
    "t3 = torch.multiply(t1, t2) #element wise matrix multiplication\n",
    "print(t3)"
   ]
  },
  {
   "cell_type": "code",
   "execution_count": 16,
   "metadata": {
    "ExecuteTime": {
     "start_time": "2023-04-06T19:16:27.008183Z",
     "end_time": "2023-04-06T19:16:27.016095Z"
    }
   },
   "outputs": [
    {
     "name": "stdout",
     "output_type": "stream",
     "text": [
      "tensor([-0.1373,  0.2028])\n"
     ]
    }
   ],
   "source": [
    "t4 = torch.mean(t1, axis=0) #mean of each column\n",
    "print(t4)"
   ]
  },
  {
   "cell_type": "code",
   "execution_count": 17,
   "metadata": {
    "ExecuteTime": {
     "start_time": "2023-04-06T19:16:27.011267Z",
     "end_time": "2023-04-06T19:16:27.016596Z"
    }
   },
   "outputs": [
    {
     "name": "stdout",
     "output_type": "stream",
     "text": [
      "tensor([[ 0.1312,  0.3860, -0.6267, -1.0096, -0.2943],\n",
      "        [ 0.1647, -0.5310,  0.2434,  0.8035,  0.1980],\n",
      "        [-0.3855, -0.4422,  1.1399,  1.5558,  0.4781],\n",
      "        [ 0.1822, -0.5771,  0.2585,  0.8676,  0.2132],\n",
      "        [ 0.0330,  0.1084, -0.1692, -0.2771, -0.0804]])\n"
     ]
    }
   ],
   "source": [
    "t5 = torch.matmul(t1, torch.transpose(t2, 0, 1)) #matrix dot product\n",
    "\n",
    "print(t5)"
   ]
  },
  {
   "cell_type": "code",
   "execution_count": 18,
   "metadata": {
    "ExecuteTime": {
     "start_time": "2023-04-06T19:16:27.015484Z",
     "end_time": "2023-04-06T19:16:27.029367Z"
    }
   },
   "outputs": [
    {
     "data": {
      "text/plain": "tensor([[ 0.5153, -0.4414],\n        [-0.1939,  0.4694],\n        [-0.9414,  0.5997],\n        [-0.2057,  0.5087],\n        [ 0.1390, -0.1224]])"
     },
     "execution_count": 18,
     "metadata": {},
     "output_type": "execute_result"
    }
   ],
   "source": [
    "t1"
   ]
  },
  {
   "cell_type": "code",
   "execution_count": 19,
   "metadata": {
    "ExecuteTime": {
     "start_time": "2023-04-06T19:16:27.019130Z",
     "end_time": "2023-04-06T19:16:27.139457Z"
    }
   },
   "outputs": [
    {
     "data": {
      "text/plain": "tensor([[ 0.8590, -0.3406, -1.1948, -0.7627, -0.3245],\n        [ 0.7056, -1.2720,  0.0250,  1.3969,  0.2879]])"
     },
     "execution_count": 19,
     "metadata": {},
     "output_type": "execute_result"
    }
   ],
   "source": [
    "torch.transpose(t2, 0, 1)"
   ]
  },
  {
   "cell_type": "code",
   "execution_count": 20,
   "metadata": {
    "ExecuteTime": {
     "start_time": "2023-04-06T19:16:27.023148Z",
     "end_time": "2023-04-06T19:16:27.164084Z"
    }
   },
   "outputs": [
    {
     "name": "stdout",
     "output_type": "stream",
     "text": [
      "tensor([[ 1.7453,  0.3392],\n",
      "        [-1.6038, -0.2180]])\n"
     ]
    }
   ],
   "source": [
    "t6 = torch.matmul(torch.transpose(t1, 0, 1), t2)\n",
    "\n",
    "print(t6)"
   ]
  },
  {
   "cell_type": "code",
   "execution_count": 21,
   "metadata": {
    "ExecuteTime": {
     "start_time": "2023-04-06T19:16:27.027506Z",
     "end_time": "2023-04-06T19:16:27.164615Z"
    }
   },
   "outputs": [
    {
     "data": {
      "text/plain": "tensor([[ 0.5153, -0.1939, -0.9414, -0.2057,  0.1390],\n        [-0.4414,  0.4694,  0.5997,  0.5087, -0.1224]])"
     },
     "execution_count": 21,
     "metadata": {},
     "output_type": "execute_result"
    }
   ],
   "source": [
    "torch.transpose(t1, 0, 1)"
   ]
  },
  {
   "cell_type": "code",
   "execution_count": 22,
   "metadata": {
    "ExecuteTime": {
     "start_time": "2023-04-06T19:16:27.030993Z",
     "end_time": "2023-04-06T19:16:27.177599Z"
    }
   },
   "outputs": [
    {
     "data": {
      "text/plain": "tensor([[ 0.8590,  0.7056],\n        [-0.3406, -1.2720],\n        [-1.1948,  0.0250],\n        [-0.7627,  1.3969],\n        [-0.3245,  0.2879]])"
     },
     "execution_count": 22,
     "metadata": {},
     "output_type": "execute_result"
    }
   ],
   "source": [
    "t2"
   ]
  },
  {
   "cell_type": "code",
   "execution_count": 23,
   "metadata": {
    "ExecuteTime": {
     "start_time": "2023-04-06T19:16:27.035550Z",
     "end_time": "2023-04-06T19:16:27.182931Z"
    }
   },
   "outputs": [
    {
     "data": {
      "text/plain": "tensor([[ 0.5153, -0.4414],\n        [-0.1939,  0.4694],\n        [-0.9414,  0.5997],\n        [-0.2057,  0.5087],\n        [ 0.1390, -0.1224]])"
     },
     "execution_count": 23,
     "metadata": {},
     "output_type": "execute_result"
    }
   ],
   "source": [
    "t1"
   ]
  },
  {
   "cell_type": "code",
   "execution_count": 24,
   "metadata": {
    "ExecuteTime": {
     "start_time": "2023-04-06T19:16:27.040071Z",
     "end_time": "2023-04-06T19:16:27.183184Z"
    }
   },
   "outputs": [
    {
     "name": "stdout",
     "output_type": "stream",
     "text": [
      "tensor([0.6785, 0.5078, 1.1162, 0.5488, 0.1853])\n"
     ]
    }
   ],
   "source": [
    "norm_t1 = torch.linalg.norm(t1, ord=2, dim=1) #L^P norm of t1 tensor. Here is L^2\n",
    "\n",
    "print(norm_t1)"
   ]
  },
  {
   "cell_type": "code",
   "execution_count": 25,
   "metadata": {
    "ExecuteTime": {
     "start_time": "2023-04-06T19:16:27.044528Z",
     "end_time": "2023-04-06T19:16:27.183378Z"
    }
   },
   "outputs": [
    {
     "name": "stdout",
     "output_type": "stream",
     "text": [
      "[0.678 0.508 1.116 0.549 0.185]\n"
     ]
    }
   ],
   "source": [
    "print(np.sqrt(np.sum(np.square(t1.numpy()), axis=1)))"
   ]
  },
  {
   "cell_type": "code",
   "execution_count": 26,
   "metadata": {
    "ExecuteTime": {
     "start_time": "2023-04-06T19:16:27.047775Z",
     "end_time": "2023-04-06T19:16:27.183665Z"
    }
   },
   "outputs": [
    {
     "name": "stdout",
     "output_type": "stream",
     "text": [
      "tensor([0.7576, 0.2793, 0.4031, 0.7347, 0.0293, 0.7999])\n"
     ]
    },
    {
     "data": {
      "text/plain": "[array([0.758, 0.279], dtype=float32),\n array([0.403, 0.735], dtype=float32),\n array([0.029, 0.8  ], dtype=float32)]"
     },
     "execution_count": 26,
     "metadata": {},
     "output_type": "execute_result"
    }
   ],
   "source": [
    "torch.manual_seed(1)\n",
    "t = torch.rand(6) #tensor of randomly generated [0-1] numbers\n",
    "print(t)\n",
    "t_splits = torch.chunk(t, 3) #split the tensor into 3 even tensors where t_splits is a list of tensors\n",
    "[item.numpy() for item in t_splits]"
   ]
  },
  {
   "cell_type": "code",
   "execution_count": 27,
   "metadata": {
    "ExecuteTime": {
     "start_time": "2023-04-06T19:16:27.053856Z",
     "end_time": "2023-04-06T19:16:27.183862Z"
    }
   },
   "outputs": [
    {
     "data": {
      "text/plain": "tensor([0.7576, 0.2793])"
     },
     "execution_count": 27,
     "metadata": {},
     "output_type": "execute_result"
    }
   ],
   "source": [
    "t_splits[0]"
   ]
  },
  {
   "cell_type": "code",
   "execution_count": 28,
   "metadata": {
    "ExecuteTime": {
     "start_time": "2023-04-06T19:16:27.057887Z",
     "end_time": "2023-04-06T19:16:27.184465Z"
    }
   },
   "outputs": [
    {
     "data": {
      "text/plain": "tensor([0.4031, 0.7347])"
     },
     "execution_count": 28,
     "metadata": {},
     "output_type": "execute_result"
    }
   ],
   "source": [
    "t_splits[1]"
   ]
  },
  {
   "cell_type": "code",
   "execution_count": 29,
   "metadata": {
    "ExecuteTime": {
     "start_time": "2023-04-06T19:16:27.061564Z",
     "end_time": "2023-04-06T19:16:27.184768Z"
    }
   },
   "outputs": [
    {
     "name": "stdout",
     "output_type": "stream",
     "text": [
      "tensor([0.7576, 0.2793, 0.4031, 0.7347, 0.0293])\n"
     ]
    },
    {
     "data": {
      "text/plain": "[array([0.758, 0.279, 0.403], dtype=float32),\n array([0.735, 0.029], dtype=float32)]"
     },
     "execution_count": 29,
     "metadata": {},
     "output_type": "execute_result"
    }
   ],
   "source": [
    "torch.manual_seed(1)\n",
    "t = torch.rand(5) #tensor of randomly generated [0-1] numbers\n",
    "print(t)\n",
    "t_splits = torch.split(t, split_size_or_sections=[3, 2]) #split the tensor into a tensor of 3 and a tensor of 2 and save into a list of tensors\n",
    "[item.numpy() for item in t_splits]"
   ]
  },
  {
   "cell_type": "code",
   "execution_count": 30,
   "metadata": {
    "ExecuteTime": {
     "start_time": "2023-04-06T19:16:27.067180Z",
     "end_time": "2023-04-06T19:16:27.185069Z"
    }
   },
   "outputs": [
    {
     "name": "stdout",
     "output_type": "stream",
     "text": [
      "tensor([1., 1., 1.])\n",
      "tensor([0., 0.])\n",
      "tensor([1., 1., 1., 0., 0.])\n"
     ]
    }
   ],
   "source": [
    "A = torch.ones(3) #tensor of 3 1s\n",
    "print(A)\n",
    "B = torch.zeros(2) #tensor of 2 0s\n",
    "print(B)\n",
    "C = torch.cat([A, B], axis=0) #concatinating tensors, thus 1d tensor of size 5\n",
    "print(C)"
   ]
  },
  {
   "cell_type": "code",
   "execution_count": 31,
   "metadata": {
    "ExecuteTime": {
     "start_time": "2023-04-06T19:16:27.071076Z",
     "end_time": "2023-04-06T19:16:27.185270Z"
    }
   },
   "outputs": [
    {
     "name": "stdout",
     "output_type": "stream",
     "text": [
      "tensor([1., 1., 1.])\n",
      "tensor([0., 0., 0.])\n",
      "tensor([[1., 0.],\n",
      "        [1., 0.],\n",
      "        [1., 0.]])\n"
     ]
    }
   ],
   "source": [
    "A = torch.ones(3) #tensor of 3 1s\n",
    "print(A)\n",
    "B = torch.zeros(3) #tensor of 3 0s\n",
    "print(B)\n",
    "S = torch.stack([A, B], axis=1) #stacking tensors, thus a 2d tensor\n",
    "print(S)"
   ]
  },
  {
   "cell_type": "code",
   "execution_count": 32,
   "metadata": {
    "ExecuteTime": {
     "start_time": "2023-04-06T19:16:27.075489Z",
     "end_time": "2023-04-06T19:16:27.185485Z"
    }
   },
   "outputs": [
    {
     "name": "stdout",
     "output_type": "stream",
     "text": [
      "tensor([0., 1., 2., 3., 4., 5.])\n"
     ]
    }
   ],
   "source": [
    "from torch.utils.data import DataLoader\n",
    "\n",
    "t = torch.arange(6, dtype=torch.float32) #1d tensor of values 0-5\n",
    "print(t)\n",
    "data_loader = DataLoader(t) #create a dataset using dataloader and t tensor"
   ]
  },
  {
   "cell_type": "code",
   "execution_count": 33,
   "metadata": {
    "ExecuteTime": {
     "start_time": "2023-04-06T19:16:27.079310Z",
     "end_time": "2023-04-06T19:16:27.185708Z"
    }
   },
   "outputs": [
    {
     "name": "stdout",
     "output_type": "stream",
     "text": [
      "tensor([0.])\n",
      "tensor([1.])\n",
      "tensor([2.])\n",
      "tensor([3.])\n",
      "tensor([4.])\n",
      "tensor([5.])\n"
     ]
    }
   ],
   "source": [
    "for item in data_loader:\n",
    "    print(item)"
   ]
  },
  {
   "cell_type": "code",
   "execution_count": 34,
   "metadata": {
    "ExecuteTime": {
     "start_time": "2023-04-06T19:16:27.084236Z",
     "end_time": "2023-04-06T19:16:27.185882Z"
    }
   },
   "outputs": [
    {
     "name": "stdout",
     "output_type": "stream",
     "text": [
      "batch 1: tensor([0., 1., 2.])\n",
      "batch 2: tensor([3., 4., 5.])\n"
     ]
    }
   ],
   "source": [
    "data_loader = DataLoader(t, batch_size=3, drop_last=False) #creating batch size of 3 from dataset\n",
    "\n",
    "for i, batch in enumerate(data_loader, 1):\n",
    "    print(f'batch {i}:', batch)"
   ]
  },
  {
   "cell_type": "code",
   "execution_count": 35,
   "metadata": {
    "ExecuteTime": {
     "start_time": "2023-04-06T19:16:27.087932Z",
     "end_time": "2023-04-06T19:16:27.186028Z"
    }
   },
   "outputs": [],
   "source": [
    "torch.manual_seed(1)\n",
    "t_x = torch.rand([4, 3], dtype=torch.float32)\n",
    "t_y = torch.arange(4)"
   ]
  },
  {
   "cell_type": "code",
   "execution_count": 36,
   "metadata": {
    "ExecuteTime": {
     "start_time": "2023-04-06T19:16:27.091392Z",
     "end_time": "2023-04-06T19:16:27.186251Z"
    }
   },
   "outputs": [
    {
     "data": {
      "text/plain": "tensor([[0.7576, 0.2793, 0.4031],\n        [0.7347, 0.0293, 0.7999],\n        [0.3971, 0.7544, 0.5695],\n        [0.4388, 0.6387, 0.5247]])"
     },
     "execution_count": 36,
     "metadata": {},
     "output_type": "execute_result"
    }
   ],
   "source": [
    "t_x #tensor with features"
   ]
  },
  {
   "cell_type": "code",
   "execution_count": 37,
   "metadata": {
    "ExecuteTime": {
     "start_time": "2023-04-06T19:16:27.094935Z",
     "end_time": "2023-04-06T19:16:27.186425Z"
    }
   },
   "outputs": [
    {
     "data": {
      "text/plain": "tensor([0, 1, 2, 3])"
     },
     "execution_count": 37,
     "metadata": {},
     "output_type": "execute_result"
    }
   ],
   "source": [
    "t_y #tensor with class labels"
   ]
  },
  {
   "cell_type": "code",
   "execution_count": 38,
   "metadata": {
    "ExecuteTime": {
     "start_time": "2023-04-06T19:16:27.098753Z",
     "end_time": "2023-04-06T19:16:27.186563Z"
    }
   },
   "outputs": [],
   "source": [
    "from torch.utils.data import Dataset\n",
    "\n",
    "class JointDataset(Dataset): #defining a custom dataset class\n",
    "    def __init__(self, x, y): #This is where the initial logic happens, such as reading existing arrays, loading a\n",
    "#file, filtering data, and so forth.\n",
    "        self.x = x\n",
    "        self.y = y\n",
    "    def __len__(self):\n",
    "        return len(self.x)\n",
    "    def __getitem__(self, idx): #This returns the corresponding sample to the given index.\n",
    "        return self.x[idx], self.y[idx]"
   ]
  },
  {
   "cell_type": "code",
   "execution_count": 39,
   "metadata": {
    "ExecuteTime": {
     "start_time": "2023-04-06T19:16:27.101638Z",
     "end_time": "2023-04-06T19:16:27.186654Z"
    }
   },
   "outputs": [],
   "source": [
    "joint_dataset = JointDataset(t_x, t_y) #create a joint dataset with the custom dataset class"
   ]
  },
  {
   "cell_type": "code",
   "execution_count": 40,
   "metadata": {
    "ExecuteTime": {
     "start_time": "2023-04-06T19:16:27.104416Z",
     "end_time": "2023-04-06T19:16:27.186900Z"
    }
   },
   "outputs": [
    {
     "name": "stdout",
     "output_type": "stream",
     "text": [
      "  x:  tensor([0.7576, 0.2793, 0.4031])   y:  tensor(0)\n",
      "  x:  tensor([0.7347, 0.0293, 0.7999])   y:  tensor(1)\n",
      "  x:  tensor([0.3971, 0.7544, 0.5695])   y:  tensor(2)\n",
      "  x:  tensor([0.4388, 0.6387, 0.5247])   y:  tensor(3)\n"
     ]
    }
   ],
   "source": [
    "for example in joint_dataset: #print each example of the joint dataset\n",
    "    print('  x: ', example[0],\n",
    "          '  y: ', example[1])"
   ]
  },
  {
   "cell_type": "code",
   "execution_count": 41,
   "metadata": {
    "ExecuteTime": {
     "start_time": "2023-04-06T19:16:27.118426Z",
     "end_time": "2023-04-06T19:16:27.195883Z"
    }
   },
   "outputs": [
    {
     "data": {
      "text/plain": "(tensor([0.7576, 0.2793, 0.4031]), tensor(0))"
     },
     "execution_count": 41,
     "metadata": {},
     "output_type": "execute_result"
    }
   ],
   "source": [
    "joint_dataset[0]"
   ]
  },
  {
   "cell_type": "code",
   "execution_count": 42,
   "metadata": {
    "ExecuteTime": {
     "start_time": "2023-04-06T19:16:27.121587Z",
     "end_time": "2023-04-06T19:16:27.196278Z"
    }
   },
   "outputs": [
    {
     "data": {
      "text/plain": "(tensor([0.7347, 0.0293, 0.7999]), tensor(1))"
     },
     "execution_count": 42,
     "metadata": {},
     "output_type": "execute_result"
    }
   ],
   "source": [
    "joint_dataset[1]"
   ]
  },
  {
   "cell_type": "code",
   "execution_count": 43,
   "metadata": {
    "ExecuteTime": {
     "start_time": "2023-04-06T19:16:27.126179Z",
     "end_time": "2023-04-06T19:16:27.196380Z"
    }
   },
   "outputs": [],
   "source": [
    "torch.manual_seed(1)\n",
    "data_loader = DataLoader(dataset=joint_dataset, batch_size=2, shuffle=True) #creating a dataloader which shuffles the order, here each batch is 2"
   ]
  },
  {
   "cell_type": "code",
   "execution_count": 44,
   "metadata": {
    "ExecuteTime": {
     "start_time": "2023-04-06T19:16:27.129635Z",
     "end_time": "2023-04-06T19:16:27.196558Z"
    }
   },
   "outputs": [
    {
     "name": "stdout",
     "output_type": "stream",
     "text": [
      "batch 1: x: tensor([[0.3971, 0.7544, 0.5695],\n",
      "        [0.7576, 0.2793, 0.4031]]) \n",
      "         y: tensor([2, 0])\n",
      "batch 2: x: tensor([[0.7347, 0.0293, 0.7999],\n",
      "        [0.4388, 0.6387, 0.5247]]) \n",
      "         y: tensor([1, 3])\n"
     ]
    }
   ],
   "source": [
    "for i, batch in enumerate(data_loader, 1):\n",
    "        print(f'batch {i}:', 'x:', batch[0],\n",
    "              '\\n         y:', batch[1])"
   ]
  },
  {
   "cell_type": "code",
   "execution_count": 45,
   "metadata": {
    "ExecuteTime": {
     "start_time": "2023-04-06T19:16:27.134068Z",
     "end_time": "2023-04-06T19:16:27.196740Z"
    }
   },
   "outputs": [
    {
     "name": "stdout",
     "output_type": "stream",
     "text": [
      "epoch 1\n",
      "batch 1: x: tensor([[0.7576, 0.2793, 0.4031],\n",
      "        [0.3971, 0.7544, 0.5695]]) \n",
      "         y: tensor([0, 2])\n",
      "batch 2: x: tensor([[0.7347, 0.0293, 0.7999],\n",
      "        [0.4388, 0.6387, 0.5247]]) \n",
      "         y: tensor([1, 3])\n",
      "epoch 2\n",
      "batch 1: x: tensor([[0.4388, 0.6387, 0.5247],\n",
      "        [0.3971, 0.7544, 0.5695]]) \n",
      "         y: tensor([3, 2])\n",
      "batch 2: x: tensor([[0.7576, 0.2793, 0.4031],\n",
      "        [0.7347, 0.0293, 0.7999]]) \n",
      "         y: tensor([0, 1])\n"
     ]
    }
   ],
   "source": [
    "for epoch in range(2): #when training a model for multiple epochs, we need to shuffle and iterate over the dataset by the desired number of epochs. So, let’s iterate over the batched dataset twice\n",
    "    print(f'epoch {epoch+1}')\n",
    "    for i, batch in enumerate(data_loader, 1):\n",
    "        print(f'batch {i}:', 'x:', batch[0],\n",
    "              '\\n         y:', batch[1])"
   ]
  },
  {
   "cell_type": "code",
   "execution_count": 46,
   "metadata": {
    "ExecuteTime": {
     "start_time": "2023-04-06T19:16:27.138990Z",
     "end_time": "2023-04-06T19:16:27.196924Z"
    }
   },
   "outputs": [
    {
     "name": "stdout",
     "output_type": "stream",
     "text": [
      "['/Users/haydenlabrie/PycharmProjects/machine_learning_book/machine-learning-book-main/ch12/cat_dog_images/cat-01.jpg', '/Users/haydenlabrie/PycharmProjects/machine_learning_book/machine-learning-book-main/ch12/cat_dog_images/cat-02.jpg', '/Users/haydenlabrie/PycharmProjects/machine_learning_book/machine-learning-book-main/ch12/cat_dog_images/cat-03.jpg', '/Users/haydenlabrie/PycharmProjects/machine_learning_book/machine-learning-book-main/ch12/cat_dog_images/dog-01.jpg', '/Users/haydenlabrie/PycharmProjects/machine_learning_book/machine-learning-book-main/ch12/cat_dog_images/dog-02.jpg', '/Users/haydenlabrie/PycharmProjects/machine_learning_book/machine-learning-book-main/ch12/cat_dog_images/dog-03.jpg']\n"
     ]
    }
   ],
   "source": [
    "#creating a list of image files\n",
    "import pathlib\n",
    "imgdir_path = pathlib.Path('/Users/haydenlabrie/PycharmProjects/machine_learning_book/machine-learning-book-main/ch12/cat_dog_images')\n",
    "file_list = sorted([str(path) for path in imgdir_path.glob('*.jpg')])\n",
    "print(file_list)"
   ]
  },
  {
   "cell_type": "code",
   "execution_count": null,
   "metadata": {
    "ExecuteTime": {
     "end_time": "2023-04-06T16:56:06.846135Z",
     "start_time": "2023-04-06T16:56:06.270523Z"
    },
    "pycharm": {
     "is_executing": true
    }
   },
   "outputs": [
    {
     "name": "stdout",
     "output_type": "stream",
     "text": [
      "Image shape:  (900, 1200, 3)\n",
      "Image shape:  (900, 1200, 3)\n",
      "Image shape:  (900, 742, 3)\n",
      "Image shape:  (800, 1200, 3)\n",
      "Image shape:  (800, 1200, 3)\n",
      "Image shape:  (900, 1200, 3)\n"
     ]
    }
   ],
   "source": [
    "#visualizing images\n",
    "import matplotlib.pyplot as plt\n",
    "import os\n",
    "from PIL import Image\n",
    "\n",
    "\n",
    "fig = plt.figure(figsize=(10, 5))\n",
    "for i, file in enumerate(file_list):\n",
    "    img = Image.open(file)\n",
    "    print('Image shape: ', np.array(img).shape)\n",
    "    ax = fig.add_subplot(2, 3, i+1)\n",
    "    ax.set_xticks([]); ax.set_yticks([])\n",
    "    ax.imshow(img)\n",
    "    ax.set_title(os.path.basename(file), size=15)\n",
    "\n",
    "#plt.savefig('figures/12_03.pdf')\n",
    "plt.tight_layout()\n",
    "plt.show()"
   ]
  },
  {
   "cell_type": "code",
   "execution_count": null,
   "metadata": {
    "ExecuteTime": {
     "end_time": "2023-04-06T16:56:06.846286Z",
     "start_time": "2023-04-06T16:56:06.846028Z"
    },
    "pycharm": {
     "is_executing": true
    }
   },
   "outputs": [],
   "source": [
    "#getting class labels from file name\n",
    "labels = [1 if 'dog' in os.path.basename(file) else 0\n",
    "          for file in file_list]\n",
    "print(labels)"
   ]
  },
  {
   "cell_type": "code",
   "execution_count": null,
   "metadata": {
    "ExecuteTime": {
     "end_time": "2023-04-06T16:56:06.846346Z",
     "start_time": "2023-04-06T16:56:06.077214Z"
    },
    "pycharm": {
     "is_executing": true
    }
   },
   "outputs": [],
   "source": [
    "#creating function to join the file name and class label datasets together\n",
    "class ImageDataset(Dataset):\n",
    "    def __init__(self, file_list, labels):\n",
    "        self.file_list = file_list\n",
    "        self.labels = labels\n",
    "\n",
    "    def __getitem__(self, index):\n",
    "        file = self.file_list[index]\n",
    "        label = self.labels[index]\n",
    "        return file, label\n",
    "\n",
    "    def __len__(self):\n",
    "        return len(self.labels)\n",
    "\n",
    "image_dataset = ImageDataset(file_list, labels)\n",
    "for file, label in image_dataset:\n",
    "    print(file, label)"
   ]
  },
  {
   "cell_type": "code",
   "execution_count": null,
   "metadata": {
    "ExecuteTime": {
     "end_time": "2023-04-06T16:56:06.846405Z",
     "start_time": "2023-04-06T16:56:06.077267Z"
    },
    "pycharm": {
     "is_executing": true
    }
   },
   "outputs": [],
   "source": [
    "#resize the images and convert to tensors\n",
    "import torchvision.transforms as transforms\n",
    "img_height, img_width = 80, 120\n",
    "transform = transforms.Compose([\n",
    "    transforms.ToTensor(),\n",
    "    transforms.Resize((img_height, img_width)),\n",
    "])"
   ]
  },
  {
   "cell_type": "code",
   "execution_count": null,
   "metadata": {
    "ExecuteTime": {
     "end_time": "2023-04-06T16:56:06.847279Z",
     "start_time": "2023-04-06T16:56:06.077309Z"
    },
    "pycharm": {
     "is_executing": true
    }
   },
   "outputs": [],
   "source": [
    "#update class with image transformation defined above\n",
    "class ImageDataset(Dataset):\n",
    "    def __init__(self, file_list, labels, transform=None):\n",
    "        self.file_list = file_list\n",
    "        self.labels = labels\n",
    "        self.transform = transform\n",
    "    def __getitem__(self, index):\n",
    "        img = Image.open(self.file_list[index])\n",
    "        if self.transform is not None:\n",
    "            img = self.transform(img)\n",
    "        label = self.labels[index]\n",
    "        return img, label\n",
    "    def __len__(self):\n",
    "        return len(self.labels)\n",
    "image_dataset = ImageDataset(file_list, labels, transform)"
   ]
  },
  {
   "cell_type": "code",
   "execution_count": null,
   "metadata": {
    "ExecuteTime": {
     "end_time": "2023-04-06T16:56:06.888054Z",
     "start_time": "2023-04-06T16:56:06.853456Z"
    },
    "pycharm": {
     "is_executing": true
    }
   },
   "outputs": [],
   "source": [
    "image_dataset[4] #0-2 is cat and 3-5 is dog"
   ]
  },
  {
   "cell_type": "code",
   "execution_count": null,
   "metadata": {
    "ExecuteTime": {
     "end_time": "2023-04-06T16:56:07.371617Z",
     "start_time": "2023-04-06T16:56:06.865975Z"
    },
    "pycharm": {
     "is_executing": true
    }
   },
   "outputs": [],
   "source": [
    "#showing transformed images\n",
    "fig = plt.figure(figsize=(10, 6))\n",
    "for i, example in enumerate(image_dataset):\n",
    "    ax = fig.add_subplot(2, 3, i + 1)\n",
    "    ax.set_xticks([]); ax.set_yticks([])\n",
    "    ax.imshow(example[0].numpy().transpose((1, 2, 0)))\n",
    "    ax.set_title(f'{example[1]}', size=15)\n",
    "\n",
    "plt.tight_layout()\n",
    "plt.savefig('figures/12_04.pdf')\n",
    "plt.show()"
   ]
  },
  {
   "cell_type": "code",
   "execution_count": null,
   "metadata": {
    "ExecuteTime": {
     "end_time": "2023-04-06T17:43:03.405376Z",
     "start_time": "2023-04-06T17:43:03.357745Z"
    },
    "pycharm": {
     "is_executing": true
    }
   },
   "outputs": [],
   "source": [
    "import torchvision"
   ]
  },
  {
   "cell_type": "code",
   "execution_count": null,
   "metadata": {
    "pycharm": {
     "is_executing": true
    }
   },
   "outputs": [],
   "source": [
    "image_path = ''\n",
    "#spliting into train, validate, and test sets. Only load the train set to use rn. We are only using the attribute \n",
    "#as the target. The target is the y variable. The attributes are facial expression, makeup, hair properties ...\n",
    "celeba_dataset = torchvision.datasets.CelebA(image_path, split='train', target_type='attr', download=False)\n",
    "\n",
    "assert isinstance(celeba_dataset, torch.utils.data.Dataset)"
   ]
  },
  {
   "cell_type": "code",
   "execution_count": null,
   "metadata": {
    "pycharm": {
     "is_executing": true
    }
   },
   "outputs": [],
   "source": [
    "example = next(iter(celeba_dataset))\n",
    "print(example) #using smiling which is the 31st element of the attribute vector"
   ]
  },
  {
   "cell_type": "code",
   "execution_count": null,
   "metadata": {
    "pycharm": {
     "is_executing": true
    }
   },
   "outputs": [],
   "source": [
    "#plotting the x = image and  y = class label, which is the smiling attribute\n",
    "from itertools import islice\n",
    "fig = plt.figure(figsize=(12, 8))\n",
    "for i, (image, attributes) in islice(enumerate(celeba_dataset), 18):\n",
    "    ax = fig.add_subplot(3, 6, i+1)\n",
    "    ax.set_xticks([]); ax.set_yticks([])\n",
    "    ax.imshow(image)\n",
    "    ax.set_title(f'{attributes[31]}', size=15)\n",
    "    \n",
    "#plt.savefig('figures/12_05.pdf')\n",
    "plt.show()"
   ]
  },
  {
   "cell_type": "code",
   "execution_count": null,
   "metadata": {
    "pycharm": {
     "is_executing": true
    }
   },
   "outputs": [],
   "source": [
    "mnist_dataset = torchvision.datasets.MNIST(image_path, 'train', download=True) #download the training porisition of\n",
    "#the mnist dataset\n",
    "\n",
    "assert isinstance(mnist_dataset, torch.utils.data.Dataset)\n",
    "\n",
    "example = next(iter(mnist_dataset))\n",
    "print(example)\n",
    "#printing the x = image and y= class label, being number that maps to the image \n",
    "fig = plt.figure(figsize=(15, 6))\n",
    "for i, (image, label) in islice(enumerate(mnist_dataset), 10):\n",
    "    ax = fig.add_subplot(2, 5, i+1)\n",
    "    ax.set_xticks([]); ax.set_yticks([])\n",
    "    ax.imshow(image, cmap='gray_r')\n",
    "    ax.set_title(f'{label}', size=15)\n",
    "\n",
    "#plt.savefig('figures/12_06.pdf')\n",
    "plt.show()"
   ]
  },
  {
   "cell_type": "code",
   "execution_count": null,
   "metadata": {
    "pycharm": {
     "is_executing": true
    }
   },
   "outputs": [],
   "source": []
  }
 ],
 "metadata": {
  "kernelspec": {
   "display_name": "Python 3 (ipykernel)",
   "language": "python",
   "name": "python3"
  },
  "language_info": {
   "codemirror_mode": {
    "name": "ipython",
    "version": 3
   },
   "file_extension": ".py",
   "mimetype": "text/x-python",
   "name": "python",
   "nbconvert_exporter": "python",
   "pygments_lexer": "ipython3",
   "version": "3.8.16"
  }
 },
 "nbformat": 4,
 "nbformat_minor": 1
}
